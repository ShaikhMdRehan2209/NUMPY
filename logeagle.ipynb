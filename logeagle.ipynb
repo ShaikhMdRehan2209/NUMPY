{
 "cells": [
  {
   "cell_type": "code",
   "execution_count": 2,
   "metadata": {},
   "outputs": [],
   "source": [
    "# This code uses ParquetWriter from the pyarrow.parquet module for writing data to Parquet files. Ensure you have the pyarrow library installed (pip install pyarrow). This should resolve the import issue you encountered.\n",
    "\n",
    "\n",
    "import os\n",
    "import subprocess\n",
    "import pyarrow as pa\n",
    "from pyarrow import schema as arrow_schema\n",
    "from pyarrow.parquet import ParquetWriter\n",
    "\n",
    "# def read_log_file(file_path):\n",
    "#     with open(file_path, 'r') as file:\n",
    "#         return file.readlines()\n",
    "\n",
    "# def write_to_parquet_file(file_path, data):\n",
    "#     # Remove null values from the data\n",
    "#     data = [line.strip() for line in data if line.strip()]\n",
    "\n",
    "#     # Create PyArrow schema\n",
    "#     schema = arrow_schema([('line', 'string')])\n",
    "\n",
    "#     # Create PyArrow array\n",
    "#     arr = pa.array(data, pa.string())\n",
    "\n",
    "#     # Create PyArrow table\n",
    "#     table = pa.Table.from_arrays([arr], schema=schema)\n",
    "\n",
    "#     # Write table to Parquet file\n",
    "#     with ParquetWriter(file_path, schema) as writer:\n",
    "#         writer.write_table(table)\n",
    "\n",
    "# def main():\n",
    "#     # Get username using whoami command\n",
    "#     username = subprocess.check_output(['whoami']).decode().strip()\n",
    "\n",
    "#     # Define paths for log files and output directory\n",
    "#     access_log_path = \"/var/log/nginx/access.log\"\n",
    "#     error_log_path = \"/var/log/nginx/error.log\"\n",
    "#     output_directory = f\"/home/{username}/logeagle\"\n",
    "\n",
    "#     # Read data from log files\n",
    "#     access_log_data = read_log_file(access_log_path)\n",
    "#     error_log_data = read_log_file(error_log_path)\n",
    "\n",
    "#     # Create output directory if it doesn't exist\n",
    "#     if not os.path.exists(output_directory):\n",
    "#         os.makedirs(output_directory)\n",
    "\n",
    "#     # Write data to Parquet files\n",
    "#     write_to_parquet_file(os.path.join(output_directory, \"access.parquet\"), access_log_data)\n",
    "#     write_to_parquet_file(os.path.join(output_directory, \"error.parquet\"), error_log_data)\n",
    "\n",
    "#     print(\"Data has been successfully converted and saved to Parquet format.\")\n",
    "\n",
    "# if __name__ == \"__main__\":\n",
    "#     main()\n"
   ]
  }
 ],
 "metadata": {
  "kernelspec": {
   "display_name": "Python 3",
   "language": "python",
   "name": "python3"
  },
  "language_info": {
   "codemirror_mode": {
    "name": "ipython",
    "version": 3
   },
   "file_extension": ".py",
   "mimetype": "text/x-python",
   "name": "python",
   "nbconvert_exporter": "python",
   "pygments_lexer": "ipython3",
   "version": "3.10.5"
  }
 },
 "nbformat": 4,
 "nbformat_minor": 2
}
